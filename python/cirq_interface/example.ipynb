{
 "cells": [
  {
   "cell_type": "code",
   "execution_count": 1,
   "metadata": {
    "ExecuteTime": {
     "end_time": "2019-10-19T23:46:10.124573Z",
     "start_time": "2019-10-19T23:46:10.113201Z"
    }
   },
   "outputs": [],
   "source": [
    "import qflex"
   ]
  },
  {
   "cell_type": "code",
   "execution_count": 2,
   "metadata": {
    "ExecuteTime": {
     "end_time": "2019-10-19T23:46:10.317351Z",
     "start_time": "2019-10-19T23:46:10.312705Z"
    }
   },
   "outputs": [],
   "source": [
    "simulation = {\n",
    "    'circuit_filename' : '../../config/circuits/rectangular_2x2_1-2-1_0.txt',\n",
    "    'ordering_filename' : '../../config/ordering/rectangular_2x2.txt',\n",
    "    'grid_filename' : '../../config/grid/rectangular_2x2.txt',\n",
    "}"
   ]
  },
  {
   "cell_type": "code",
   "execution_count": 3,
   "metadata": {
    "ExecuteTime": {
     "end_time": "2019-10-19T23:46:10.558424Z",
     "start_time": "2019-10-19T23:46:10.496666Z"
    }
   },
   "outputs": [
    {
     "data": {
      "text/plain": [
       "[('0000', (-1.995021925438323e-09+0.22855322808027267j))]"
      ]
     },
     "execution_count": 3,
     "metadata": {},
     "output_type": "execute_result"
    }
   ],
   "source": [
    "qflex.simulate(simulation)"
   ]
  },
  {
   "cell_type": "code",
   "execution_count": null,
   "metadata": {},
   "outputs": [],
   "source": [
    "        "
   ]
  }
 ],
 "metadata": {
  "kernelspec": {
   "display_name": "Python 3",
   "language": "python",
   "name": "python3"
  },
  "language_info": {
   "codemirror_mode": {
    "name": "ipython",
    "version": 3
   },
   "file_extension": ".py",
   "mimetype": "text/x-python",
   "name": "python",
   "nbconvert_exporter": "python",
   "pygments_lexer": "ipython3",
   "version": "3.7.5rc1"
  }
 },
 "nbformat": 4,
 "nbformat_minor": 2
}
